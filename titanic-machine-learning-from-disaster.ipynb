{
 "cells": [
  {
   "cell_type": "markdown",
   "id": "7b3a732d",
   "metadata": {
    "papermill": {
     "duration": 0.00945,
     "end_time": "2022-07-06T10:15:03.434452",
     "exception": false,
     "start_time": "2022-07-06T10:15:03.425002",
     "status": "completed"
    },
    "tags": []
   },
   "source": [
    "Importing the Libraries"
   ]
  },
  {
   "cell_type": "code",
   "execution_count": 1,
   "id": "4ff0644d",
   "metadata": {
    "execution": {
     "iopub.execute_input": "2022-07-06T10:15:03.455393Z",
     "iopub.status.busy": "2022-07-06T10:15:03.454577Z",
     "iopub.status.idle": "2022-07-06T10:15:04.929421Z",
     "shell.execute_reply": "2022-07-06T10:15:04.928183Z"
    },
    "papermill": {
     "duration": 1.490201,
     "end_time": "2022-07-06T10:15:04.933061",
     "exception": false,
     "start_time": "2022-07-06T10:15:03.442860",
     "status": "completed"
    },
    "tags": []
   },
   "outputs": [],
   "source": [
    "import numpy as np\n",
    "import pandas as pd\n",
    "from sklearn.impute import SimpleImputer\n",
    "from sklearn import preprocessing\n",
    "from sklearn.preprocessing import StandardScaler\n",
    "from sklearn.ensemble import RandomForestClassifier"
   ]
  },
  {
   "cell_type": "markdown",
   "id": "f4a4e497",
   "metadata": {
    "papermill": {
     "duration": 0.007661,
     "end_time": "2022-07-06T10:15:04.948887",
     "exception": false,
     "start_time": "2022-07-06T10:15:04.941226",
     "status": "completed"
    },
    "tags": []
   },
   "source": [
    "Importing the training data"
   ]
  },
  {
   "cell_type": "code",
   "execution_count": 2,
   "id": "fd1b55bc",
   "metadata": {
    "execution": {
     "iopub.execute_input": "2022-07-06T10:15:04.967371Z",
     "iopub.status.busy": "2022-07-06T10:15:04.966542Z",
     "iopub.status.idle": "2022-07-06T10:15:05.022090Z",
     "shell.execute_reply": "2022-07-06T10:15:05.020706Z"
    },
    "papermill": {
     "duration": 0.070609,
     "end_time": "2022-07-06T10:15:05.027353",
     "exception": false,
     "start_time": "2022-07-06T10:15:04.956744",
     "status": "completed"
    },
    "tags": []
   },
   "outputs": [
    {
     "name": "stdout",
     "output_type": "stream",
     "text": [
      "<class 'pandas.core.frame.DataFrame'>\n",
      "RangeIndex: 891 entries, 0 to 890\n",
      "Data columns (total 12 columns):\n",
      " #   Column       Non-Null Count  Dtype  \n",
      "---  ------       --------------  -----  \n",
      " 0   PassengerId  891 non-null    int64  \n",
      " 1   Survived     891 non-null    int64  \n",
      " 2   Pclass       891 non-null    int64  \n",
      " 3   Name         891 non-null    object \n",
      " 4   Sex          891 non-null    object \n",
      " 5   Age          714 non-null    float64\n",
      " 6   SibSp        891 non-null    int64  \n",
      " 7   Parch        891 non-null    int64  \n",
      " 8   Ticket       891 non-null    object \n",
      " 9   Fare         891 non-null    float64\n",
      " 10  Cabin        204 non-null    object \n",
      " 11  Embarked     889 non-null    object \n",
      "dtypes: float64(2), int64(5), object(5)\n",
      "memory usage: 83.7+ KB\n"
     ]
    },
    {
     "data": {
      "text/plain": [
       "PassengerId      0\n",
       "Survived         0\n",
       "Pclass           0\n",
       "Name             0\n",
       "Sex              0\n",
       "Age            177\n",
       "SibSp            0\n",
       "Parch            0\n",
       "Ticket           0\n",
       "Fare             0\n",
       "Cabin          687\n",
       "Embarked         2\n",
       "dtype: int64"
      ]
     },
     "execution_count": 2,
     "metadata": {},
     "output_type": "execute_result"
    }
   ],
   "source": [
    "mydata = pd.read_csv('../input/titanic/train.csv')\n",
    "mydata.info()\n",
    "mydata.isnull().sum() "
   ]
  },
  {
   "cell_type": "markdown",
   "id": "d2cdb800",
   "metadata": {
    "papermill": {
     "duration": 0.008496,
     "end_time": "2022-07-06T10:15:05.045138",
     "exception": false,
     "start_time": "2022-07-06T10:15:05.036642",
     "status": "completed"
    },
    "tags": []
   },
   "source": [
    "**Taking care of missing data for age**"
   ]
  },
  {
   "cell_type": "code",
   "execution_count": 3,
   "id": "473ae380",
   "metadata": {
    "execution": {
     "iopub.execute_input": "2022-07-06T10:15:05.065327Z",
     "iopub.status.busy": "2022-07-06T10:15:05.064921Z",
     "iopub.status.idle": "2022-07-06T10:15:05.078362Z",
     "shell.execute_reply": "2022-07-06T10:15:05.077235Z"
    },
    "papermill": {
     "duration": 0.026287,
     "end_time": "2022-07-06T10:15:05.080728",
     "exception": false,
     "start_time": "2022-07-06T10:15:05.054441",
     "status": "completed"
    },
    "tags": []
   },
   "outputs": [],
   "source": [
    "imputer = SimpleImputer(missing_values=np.nan, strategy='mean')\n",
    "imputer.fit(mydata[['Age']])\n",
    "mydata[['Age']] = imputer.transform(mydata[['Age']])"
   ]
  },
  {
   "cell_type": "markdown",
   "id": "233e1e43",
   "metadata": {
    "papermill": {
     "duration": 0.008541,
     "end_time": "2022-07-06T10:15:05.097660",
     "exception": false,
     "start_time": "2022-07-06T10:15:05.089119",
     "status": "completed"
    },
    "tags": []
   },
   "source": [
    "**Taking care of missing data for embarked city & Creating dummy variables for embarked city**"
   ]
  },
  {
   "cell_type": "code",
   "execution_count": 4,
   "id": "c7f12e0f",
   "metadata": {
    "execution": {
     "iopub.execute_input": "2022-07-06T10:15:05.117304Z",
     "iopub.status.busy": "2022-07-06T10:15:05.116496Z",
     "iopub.status.idle": "2022-07-06T10:15:05.132080Z",
     "shell.execute_reply": "2022-07-06T10:15:05.131148Z"
    },
    "papermill": {
     "duration": 0.028538,
     "end_time": "2022-07-06T10:15:05.134795",
     "exception": false,
     "start_time": "2022-07-06T10:15:05.106257",
     "status": "completed"
    },
    "tags": []
   },
   "outputs": [],
   "source": [
    "imputer = SimpleImputer(missing_values=np.nan, strategy='most_frequent')\n",
    "imputer.fit(mydata[['Embarked']])\n",
    "mydata[['Embarked']] = imputer.transform(mydata[['Embarked']])\n",
    "\n",
    "emb=pd.get_dummies(mydata['Embarked'])\n",
    "mydata = pd.concat([mydata, emb], axis=1, join='inner')"
   ]
  },
  {
   "cell_type": "markdown",
   "id": "a09f074a",
   "metadata": {
    "papermill": {
     "duration": 0.008989,
     "end_time": "2022-07-06T10:15:05.154571",
     "exception": false,
     "start_time": "2022-07-06T10:15:05.145582",
     "status": "completed"
    },
    "tags": []
   },
   "source": [
    "**Encoding Sex**"
   ]
  },
  {
   "cell_type": "code",
   "execution_count": 5,
   "id": "ceaf4256",
   "metadata": {
    "execution": {
     "iopub.execute_input": "2022-07-06T10:15:05.174366Z",
     "iopub.status.busy": "2022-07-06T10:15:05.173742Z",
     "iopub.status.idle": "2022-07-06T10:15:05.198276Z",
     "shell.execute_reply": "2022-07-06T10:15:05.197380Z"
    },
    "papermill": {
     "duration": 0.037141,
     "end_time": "2022-07-06T10:15:05.200639",
     "exception": false,
     "start_time": "2022-07-06T10:15:05.163498",
     "status": "completed"
    },
    "tags": []
   },
   "outputs": [
    {
     "data": {
      "text/html": [
       "<div>\n",
       "<style scoped>\n",
       "    .dataframe tbody tr th:only-of-type {\n",
       "        vertical-align: middle;\n",
       "    }\n",
       "\n",
       "    .dataframe tbody tr th {\n",
       "        vertical-align: top;\n",
       "    }\n",
       "\n",
       "    .dataframe thead th {\n",
       "        text-align: right;\n",
       "    }\n",
       "</style>\n",
       "<table border=\"1\" class=\"dataframe\">\n",
       "  <thead>\n",
       "    <tr style=\"text-align: right;\">\n",
       "      <th></th>\n",
       "      <th>PassengerId</th>\n",
       "      <th>Survived</th>\n",
       "      <th>Pclass</th>\n",
       "      <th>Name</th>\n",
       "      <th>Sex</th>\n",
       "      <th>Age</th>\n",
       "      <th>SibSp</th>\n",
       "      <th>Parch</th>\n",
       "      <th>Ticket</th>\n",
       "      <th>Fare</th>\n",
       "      <th>Cabin</th>\n",
       "      <th>Embarked</th>\n",
       "      <th>C</th>\n",
       "      <th>Q</th>\n",
       "      <th>S</th>\n",
       "      <th>female</th>\n",
       "      <th>male</th>\n",
       "    </tr>\n",
       "  </thead>\n",
       "  <tbody>\n",
       "    <tr>\n",
       "      <th>0</th>\n",
       "      <td>1</td>\n",
       "      <td>0</td>\n",
       "      <td>3</td>\n",
       "      <td>Braund, Mr. Owen Harris</td>\n",
       "      <td>male</td>\n",
       "      <td>22.0</td>\n",
       "      <td>1</td>\n",
       "      <td>0</td>\n",
       "      <td>A/5 21171</td>\n",
       "      <td>7.2500</td>\n",
       "      <td>NaN</td>\n",
       "      <td>S</td>\n",
       "      <td>0</td>\n",
       "      <td>0</td>\n",
       "      <td>1</td>\n",
       "      <td>0</td>\n",
       "      <td>1</td>\n",
       "    </tr>\n",
       "    <tr>\n",
       "      <th>1</th>\n",
       "      <td>2</td>\n",
       "      <td>1</td>\n",
       "      <td>1</td>\n",
       "      <td>Cumings, Mrs. John Bradley (Florence Briggs Th...</td>\n",
       "      <td>female</td>\n",
       "      <td>38.0</td>\n",
       "      <td>1</td>\n",
       "      <td>0</td>\n",
       "      <td>PC 17599</td>\n",
       "      <td>71.2833</td>\n",
       "      <td>C85</td>\n",
       "      <td>C</td>\n",
       "      <td>1</td>\n",
       "      <td>0</td>\n",
       "      <td>0</td>\n",
       "      <td>1</td>\n",
       "      <td>0</td>\n",
       "    </tr>\n",
       "    <tr>\n",
       "      <th>2</th>\n",
       "      <td>3</td>\n",
       "      <td>1</td>\n",
       "      <td>3</td>\n",
       "      <td>Heikkinen, Miss. Laina</td>\n",
       "      <td>female</td>\n",
       "      <td>26.0</td>\n",
       "      <td>0</td>\n",
       "      <td>0</td>\n",
       "      <td>STON/O2. 3101282</td>\n",
       "      <td>7.9250</td>\n",
       "      <td>NaN</td>\n",
       "      <td>S</td>\n",
       "      <td>0</td>\n",
       "      <td>0</td>\n",
       "      <td>1</td>\n",
       "      <td>1</td>\n",
       "      <td>0</td>\n",
       "    </tr>\n",
       "    <tr>\n",
       "      <th>3</th>\n",
       "      <td>4</td>\n",
       "      <td>1</td>\n",
       "      <td>1</td>\n",
       "      <td>Futrelle, Mrs. Jacques Heath (Lily May Peel)</td>\n",
       "      <td>female</td>\n",
       "      <td>35.0</td>\n",
       "      <td>1</td>\n",
       "      <td>0</td>\n",
       "      <td>113803</td>\n",
       "      <td>53.1000</td>\n",
       "      <td>C123</td>\n",
       "      <td>S</td>\n",
       "      <td>0</td>\n",
       "      <td>0</td>\n",
       "      <td>1</td>\n",
       "      <td>1</td>\n",
       "      <td>0</td>\n",
       "    </tr>\n",
       "    <tr>\n",
       "      <th>4</th>\n",
       "      <td>5</td>\n",
       "      <td>0</td>\n",
       "      <td>3</td>\n",
       "      <td>Allen, Mr. William Henry</td>\n",
       "      <td>male</td>\n",
       "      <td>35.0</td>\n",
       "      <td>0</td>\n",
       "      <td>0</td>\n",
       "      <td>373450</td>\n",
       "      <td>8.0500</td>\n",
       "      <td>NaN</td>\n",
       "      <td>S</td>\n",
       "      <td>0</td>\n",
       "      <td>0</td>\n",
       "      <td>1</td>\n",
       "      <td>0</td>\n",
       "      <td>1</td>\n",
       "    </tr>\n",
       "  </tbody>\n",
       "</table>\n",
       "</div>"
      ],
      "text/plain": [
       "   PassengerId  Survived  Pclass  \\\n",
       "0            1         0       3   \n",
       "1            2         1       1   \n",
       "2            3         1       3   \n",
       "3            4         1       1   \n",
       "4            5         0       3   \n",
       "\n",
       "                                                Name     Sex   Age  SibSp  \\\n",
       "0                            Braund, Mr. Owen Harris    male  22.0      1   \n",
       "1  Cumings, Mrs. John Bradley (Florence Briggs Th...  female  38.0      1   \n",
       "2                             Heikkinen, Miss. Laina  female  26.0      0   \n",
       "3       Futrelle, Mrs. Jacques Heath (Lily May Peel)  female  35.0      1   \n",
       "4                           Allen, Mr. William Henry    male  35.0      0   \n",
       "\n",
       "   Parch            Ticket     Fare Cabin Embarked  C  Q  S  female  male  \n",
       "0      0         A/5 21171   7.2500   NaN        S  0  0  1       0     1  \n",
       "1      0          PC 17599  71.2833   C85        C  1  0  0       1     0  \n",
       "2      0  STON/O2. 3101282   7.9250   NaN        S  0  0  1       1     0  \n",
       "3      0            113803  53.1000  C123        S  0  0  1       1     0  \n",
       "4      0            373450   8.0500   NaN        S  0  0  1       0     1  "
      ]
     },
     "execution_count": 5,
     "metadata": {},
     "output_type": "execute_result"
    }
   ],
   "source": [
    "sex=pd.get_dummies(mydata['Sex'])\n",
    "mydata=pd.concat([mydata, sex], axis=1, join='inner')\n",
    "mydata.head()"
   ]
  },
  {
   "cell_type": "markdown",
   "id": "a257674f",
   "metadata": {
    "papermill": {
     "duration": 0.009457,
     "end_time": "2022-07-06T10:15:05.219085",
     "exception": false,
     "start_time": "2022-07-06T10:15:05.209628",
     "status": "completed"
    },
    "tags": []
   },
   "source": [
    "**Creatin an additional parameter for traveling alone**"
   ]
  },
  {
   "cell_type": "code",
   "execution_count": 6,
   "id": "755d7a89",
   "metadata": {
    "execution": {
     "iopub.execute_input": "2022-07-06T10:15:05.241618Z",
     "iopub.status.busy": "2022-07-06T10:15:05.241026Z",
     "iopub.status.idle": "2022-07-06T10:15:05.259959Z",
     "shell.execute_reply": "2022-07-06T10:15:05.259174Z"
    },
    "papermill": {
     "duration": 0.032386,
     "end_time": "2022-07-06T10:15:05.262676",
     "exception": false,
     "start_time": "2022-07-06T10:15:05.230290",
     "status": "completed"
    },
    "tags": []
   },
   "outputs": [],
   "source": [
    "alone = []\n",
    "par=mydata['Parch']; sib=mydata['SibSp']\n",
    "for i in range(0, len(mydata['PassengerId'])):\n",
    "    if (par[i]+sib[i]==0)==True:\n",
    "        alone.append(1)\n",
    "    else:\n",
    "        alone.append(0)\n",
    "alone= pd.DataFrame(alone, columns =['Alone'])\n",
    "mydata = pd.concat([mydata, alone], axis=1, join='inner')"
   ]
  },
  {
   "cell_type": "markdown",
   "id": "f484fd72",
   "metadata": {
    "papermill": {
     "duration": 0.008763,
     "end_time": "2022-07-06T10:15:05.281413",
     "exception": false,
     "start_time": "2022-07-06T10:15:05.272650",
     "status": "completed"
    },
    "tags": []
   },
   "source": [
    "**Making survival the last column in the dataframe**"
   ]
  },
  {
   "cell_type": "code",
   "execution_count": 7,
   "id": "41badacc",
   "metadata": {
    "execution": {
     "iopub.execute_input": "2022-07-06T10:15:05.303173Z",
     "iopub.status.busy": "2022-07-06T10:15:05.302514Z",
     "iopub.status.idle": "2022-07-06T10:15:05.322179Z",
     "shell.execute_reply": "2022-07-06T10:15:05.321296Z"
    },
    "papermill": {
     "duration": 0.034735,
     "end_time": "2022-07-06T10:15:05.325620",
     "exception": false,
     "start_time": "2022-07-06T10:15:05.290885",
     "status": "completed"
    },
    "tags": []
   },
   "outputs": [
    {
     "name": "stdout",
     "output_type": "stream",
     "text": [
      "<class 'pandas.core.frame.DataFrame'>\n",
      "RangeIndex: 891 entries, 0 to 890\n",
      "Data columns (total 18 columns):\n",
      " #   Column       Non-Null Count  Dtype  \n",
      "---  ------       --------------  -----  \n",
      " 0   PassengerId  891 non-null    int64  \n",
      " 1   Pclass       891 non-null    int64  \n",
      " 2   Name         891 non-null    object \n",
      " 3   Sex          891 non-null    object \n",
      " 4   Age          891 non-null    float64\n",
      " 5   SibSp        891 non-null    int64  \n",
      " 6   Parch        891 non-null    int64  \n",
      " 7   Ticket       891 non-null    object \n",
      " 8   Fare         891 non-null    float64\n",
      " 9   Cabin        204 non-null    object \n",
      " 10  Embarked     891 non-null    object \n",
      " 11  C            891 non-null    uint8  \n",
      " 12  Q            891 non-null    uint8  \n",
      " 13  S            891 non-null    uint8  \n",
      " 14  female       891 non-null    uint8  \n",
      " 15  male         891 non-null    uint8  \n",
      " 16  Alone        891 non-null    int64  \n",
      " 17  Survived     891 non-null    int64  \n",
      "dtypes: float64(2), int64(6), object(5), uint8(5)\n",
      "memory usage: 95.0+ KB\n"
     ]
    }
   ],
   "source": [
    "surv= mydata['Survived']\n",
    "del mydata['Survived']\n",
    "surv = pd.DataFrame(surv, columns =['Survived'])\n",
    "mydata = pd.concat([mydata, surv], axis=1, join='inner')\n",
    "mydata.info()"
   ]
  },
  {
   "cell_type": "markdown",
   "id": "37520637",
   "metadata": {
    "papermill": {
     "duration": 0.008861,
     "end_time": "2022-07-06T10:15:05.344179",
     "exception": false,
     "start_time": "2022-07-06T10:15:05.335318",
     "status": "completed"
    },
    "tags": []
   },
   "source": [
    "**Uploading the test data**"
   ]
  },
  {
   "cell_type": "code",
   "execution_count": 8,
   "id": "f046c885",
   "metadata": {
    "execution": {
     "iopub.execute_input": "2022-07-06T10:15:05.364540Z",
     "iopub.status.busy": "2022-07-06T10:15:05.364067Z",
     "iopub.status.idle": "2022-07-06T10:15:05.390749Z",
     "shell.execute_reply": "2022-07-06T10:15:05.389181Z"
    },
    "papermill": {
     "duration": 0.040558,
     "end_time": "2022-07-06T10:15:05.393942",
     "exception": false,
     "start_time": "2022-07-06T10:15:05.353384",
     "status": "completed"
    },
    "tags": []
   },
   "outputs": [
    {
     "name": "stdout",
     "output_type": "stream",
     "text": [
      "<class 'pandas.core.frame.DataFrame'>\n",
      "RangeIndex: 418 entries, 0 to 417\n",
      "Data columns (total 11 columns):\n",
      " #   Column       Non-Null Count  Dtype  \n",
      "---  ------       --------------  -----  \n",
      " 0   PassengerId  418 non-null    int64  \n",
      " 1   Pclass       418 non-null    int64  \n",
      " 2   Name         418 non-null    object \n",
      " 3   Sex          418 non-null    object \n",
      " 4   Age          332 non-null    float64\n",
      " 5   SibSp        418 non-null    int64  \n",
      " 6   Parch        418 non-null    int64  \n",
      " 7   Ticket       418 non-null    object \n",
      " 8   Fare         417 non-null    float64\n",
      " 9   Cabin        91 non-null     object \n",
      " 10  Embarked     418 non-null    object \n",
      "dtypes: float64(2), int64(4), object(5)\n",
      "memory usage: 36.0+ KB\n"
     ]
    },
    {
     "data": {
      "text/plain": [
       "PassengerId      0\n",
       "Pclass           0\n",
       "Name             0\n",
       "Sex              0\n",
       "Age             86\n",
       "SibSp            0\n",
       "Parch            0\n",
       "Ticket           0\n",
       "Fare             1\n",
       "Cabin          327\n",
       "Embarked         0\n",
       "dtype: int64"
      ]
     },
     "execution_count": 8,
     "metadata": {},
     "output_type": "execute_result"
    }
   ],
   "source": [
    "tdata=pd.read_csv('../input/titanic/test.csv')\n",
    "tdata.info()\n",
    "tdata.isnull().sum()"
   ]
  },
  {
   "cell_type": "markdown",
   "id": "363c3ea5",
   "metadata": {
    "papermill": {
     "duration": 0.008958,
     "end_time": "2022-07-06T10:15:05.412845",
     "exception": false,
     "start_time": "2022-07-06T10:15:05.403887",
     "status": "completed"
    },
    "tags": []
   },
   "source": [
    "**Taking care of missing data for age & fare**"
   ]
  },
  {
   "cell_type": "code",
   "execution_count": 9,
   "id": "09e6e40c",
   "metadata": {
    "execution": {
     "iopub.execute_input": "2022-07-06T10:15:05.433650Z",
     "iopub.status.busy": "2022-07-06T10:15:05.433282Z",
     "iopub.status.idle": "2022-07-06T10:15:05.450957Z",
     "shell.execute_reply": "2022-07-06T10:15:05.449526Z"
    },
    "papermill": {
     "duration": 0.031933,
     "end_time": "2022-07-06T10:15:05.454105",
     "exception": false,
     "start_time": "2022-07-06T10:15:05.422172",
     "status": "completed"
    },
    "tags": []
   },
   "outputs": [],
   "source": [
    "imputer = SimpleImputer(missing_values=np.nan, strategy='mean')\n",
    "imputer.fit(tdata[['Age']])\n",
    "tdata[['Age']] = imputer.transform(tdata[['Age']])\n",
    "imputer.fit(tdata[['Fare']])\n",
    "tdata[['Fare']] = imputer.transform(tdata[['Fare']])"
   ]
  },
  {
   "cell_type": "markdown",
   "id": "be5edb5d",
   "metadata": {
    "papermill": {
     "duration": 0.009718,
     "end_time": "2022-07-06T10:15:05.473760",
     "exception": false,
     "start_time": "2022-07-06T10:15:05.464042",
     "status": "completed"
    },
    "tags": []
   },
   "source": [
    "**Creating dummy variables for embarked city**"
   ]
  },
  {
   "cell_type": "code",
   "execution_count": 10,
   "id": "57f33482",
   "metadata": {
    "execution": {
     "iopub.execute_input": "2022-07-06T10:15:05.496223Z",
     "iopub.status.busy": "2022-07-06T10:15:05.495769Z",
     "iopub.status.idle": "2022-07-06T10:15:05.504735Z",
     "shell.execute_reply": "2022-07-06T10:15:05.503666Z"
    },
    "papermill": {
     "duration": 0.024052,
     "end_time": "2022-07-06T10:15:05.507150",
     "exception": false,
     "start_time": "2022-07-06T10:15:05.483098",
     "status": "completed"
    },
    "tags": []
   },
   "outputs": [],
   "source": [
    "emb=pd.get_dummies(tdata['Embarked'])\n",
    "tdata=pd.concat([tdata, emb], axis=1, join='inner')"
   ]
  },
  {
   "cell_type": "markdown",
   "id": "a7ef256a",
   "metadata": {
    "papermill": {
     "duration": 0.010095,
     "end_time": "2022-07-06T10:15:05.526687",
     "exception": false,
     "start_time": "2022-07-06T10:15:05.516592",
     "status": "completed"
    },
    "tags": []
   },
   "source": [
    "**Encoding Sex**"
   ]
  },
  {
   "cell_type": "code",
   "execution_count": 11,
   "id": "36f05faf",
   "metadata": {
    "execution": {
     "iopub.execute_input": "2022-07-06T10:15:05.549439Z",
     "iopub.status.busy": "2022-07-06T10:15:05.548144Z",
     "iopub.status.idle": "2022-07-06T10:15:05.569742Z",
     "shell.execute_reply": "2022-07-06T10:15:05.568823Z"
    },
    "papermill": {
     "duration": 0.035629,
     "end_time": "2022-07-06T10:15:05.571960",
     "exception": false,
     "start_time": "2022-07-06T10:15:05.536331",
     "status": "completed"
    },
    "tags": []
   },
   "outputs": [
    {
     "data": {
      "text/html": [
       "<div>\n",
       "<style scoped>\n",
       "    .dataframe tbody tr th:only-of-type {\n",
       "        vertical-align: middle;\n",
       "    }\n",
       "\n",
       "    .dataframe tbody tr th {\n",
       "        vertical-align: top;\n",
       "    }\n",
       "\n",
       "    .dataframe thead th {\n",
       "        text-align: right;\n",
       "    }\n",
       "</style>\n",
       "<table border=\"1\" class=\"dataframe\">\n",
       "  <thead>\n",
       "    <tr style=\"text-align: right;\">\n",
       "      <th></th>\n",
       "      <th>PassengerId</th>\n",
       "      <th>Pclass</th>\n",
       "      <th>Name</th>\n",
       "      <th>Sex</th>\n",
       "      <th>Age</th>\n",
       "      <th>SibSp</th>\n",
       "      <th>Parch</th>\n",
       "      <th>Ticket</th>\n",
       "      <th>Fare</th>\n",
       "      <th>Cabin</th>\n",
       "      <th>Embarked</th>\n",
       "      <th>C</th>\n",
       "      <th>Q</th>\n",
       "      <th>S</th>\n",
       "      <th>female</th>\n",
       "      <th>male</th>\n",
       "    </tr>\n",
       "  </thead>\n",
       "  <tbody>\n",
       "    <tr>\n",
       "      <th>0</th>\n",
       "      <td>892</td>\n",
       "      <td>3</td>\n",
       "      <td>Kelly, Mr. James</td>\n",
       "      <td>male</td>\n",
       "      <td>34.5</td>\n",
       "      <td>0</td>\n",
       "      <td>0</td>\n",
       "      <td>330911</td>\n",
       "      <td>7.8292</td>\n",
       "      <td>NaN</td>\n",
       "      <td>Q</td>\n",
       "      <td>0</td>\n",
       "      <td>1</td>\n",
       "      <td>0</td>\n",
       "      <td>0</td>\n",
       "      <td>1</td>\n",
       "    </tr>\n",
       "    <tr>\n",
       "      <th>1</th>\n",
       "      <td>893</td>\n",
       "      <td>3</td>\n",
       "      <td>Wilkes, Mrs. James (Ellen Needs)</td>\n",
       "      <td>female</td>\n",
       "      <td>47.0</td>\n",
       "      <td>1</td>\n",
       "      <td>0</td>\n",
       "      <td>363272</td>\n",
       "      <td>7.0000</td>\n",
       "      <td>NaN</td>\n",
       "      <td>S</td>\n",
       "      <td>0</td>\n",
       "      <td>0</td>\n",
       "      <td>1</td>\n",
       "      <td>1</td>\n",
       "      <td>0</td>\n",
       "    </tr>\n",
       "    <tr>\n",
       "      <th>2</th>\n",
       "      <td>894</td>\n",
       "      <td>2</td>\n",
       "      <td>Myles, Mr. Thomas Francis</td>\n",
       "      <td>male</td>\n",
       "      <td>62.0</td>\n",
       "      <td>0</td>\n",
       "      <td>0</td>\n",
       "      <td>240276</td>\n",
       "      <td>9.6875</td>\n",
       "      <td>NaN</td>\n",
       "      <td>Q</td>\n",
       "      <td>0</td>\n",
       "      <td>1</td>\n",
       "      <td>0</td>\n",
       "      <td>0</td>\n",
       "      <td>1</td>\n",
       "    </tr>\n",
       "    <tr>\n",
       "      <th>3</th>\n",
       "      <td>895</td>\n",
       "      <td>3</td>\n",
       "      <td>Wirz, Mr. Albert</td>\n",
       "      <td>male</td>\n",
       "      <td>27.0</td>\n",
       "      <td>0</td>\n",
       "      <td>0</td>\n",
       "      <td>315154</td>\n",
       "      <td>8.6625</td>\n",
       "      <td>NaN</td>\n",
       "      <td>S</td>\n",
       "      <td>0</td>\n",
       "      <td>0</td>\n",
       "      <td>1</td>\n",
       "      <td>0</td>\n",
       "      <td>1</td>\n",
       "    </tr>\n",
       "    <tr>\n",
       "      <th>4</th>\n",
       "      <td>896</td>\n",
       "      <td>3</td>\n",
       "      <td>Hirvonen, Mrs. Alexander (Helga E Lindqvist)</td>\n",
       "      <td>female</td>\n",
       "      <td>22.0</td>\n",
       "      <td>1</td>\n",
       "      <td>1</td>\n",
       "      <td>3101298</td>\n",
       "      <td>12.2875</td>\n",
       "      <td>NaN</td>\n",
       "      <td>S</td>\n",
       "      <td>0</td>\n",
       "      <td>0</td>\n",
       "      <td>1</td>\n",
       "      <td>1</td>\n",
       "      <td>0</td>\n",
       "    </tr>\n",
       "  </tbody>\n",
       "</table>\n",
       "</div>"
      ],
      "text/plain": [
       "   PassengerId  Pclass                                          Name     Sex  \\\n",
       "0          892       3                              Kelly, Mr. James    male   \n",
       "1          893       3              Wilkes, Mrs. James (Ellen Needs)  female   \n",
       "2          894       2                     Myles, Mr. Thomas Francis    male   \n",
       "3          895       3                              Wirz, Mr. Albert    male   \n",
       "4          896       3  Hirvonen, Mrs. Alexander (Helga E Lindqvist)  female   \n",
       "\n",
       "    Age  SibSp  Parch   Ticket     Fare Cabin Embarked  C  Q  S  female  male  \n",
       "0  34.5      0      0   330911   7.8292   NaN        Q  0  1  0       0     1  \n",
       "1  47.0      1      0   363272   7.0000   NaN        S  0  0  1       1     0  \n",
       "2  62.0      0      0   240276   9.6875   NaN        Q  0  1  0       0     1  \n",
       "3  27.0      0      0   315154   8.6625   NaN        S  0  0  1       0     1  \n",
       "4  22.0      1      1  3101298  12.2875   NaN        S  0  0  1       1     0  "
      ]
     },
     "execution_count": 11,
     "metadata": {},
     "output_type": "execute_result"
    }
   ],
   "source": [
    "sex=pd.get_dummies(tdata['Sex'])\n",
    "tdata=pd.concat([tdata, sex], axis=1, join='inner')\n",
    "\n",
    "tdata.head()"
   ]
  },
  {
   "cell_type": "markdown",
   "id": "0a7328b5",
   "metadata": {
    "papermill": {
     "duration": 0.009913,
     "end_time": "2022-07-06T10:15:05.591376",
     "exception": false,
     "start_time": "2022-07-06T10:15:05.581463",
     "status": "completed"
    },
    "tags": []
   },
   "source": [
    "**Creating an additional parameter for traveling alone**"
   ]
  },
  {
   "cell_type": "code",
   "execution_count": 12,
   "id": "bddd6915",
   "metadata": {
    "execution": {
     "iopub.execute_input": "2022-07-06T10:15:05.612821Z",
     "iopub.status.busy": "2022-07-06T10:15:05.612112Z",
     "iopub.status.idle": "2022-07-06T10:15:05.626754Z",
     "shell.execute_reply": "2022-07-06T10:15:05.625668Z"
    },
    "papermill": {
     "duration": 0.02886,
     "end_time": "2022-07-06T10:15:05.629948",
     "exception": false,
     "start_time": "2022-07-06T10:15:05.601088",
     "status": "completed"
    },
    "tags": []
   },
   "outputs": [],
   "source": [
    "alone = []\n",
    "par=tdata['Parch']; sib=tdata['SibSp']\n",
    "for i in range(0, len(tdata['PassengerId'])):\n",
    "    if (par[i]+sib[i]==0)==True:\n",
    "        alone.append(1)\n",
    "    else:\n",
    "        alone.append(0)\n",
    "alone= pd.DataFrame(alone, columns =['Alone'])\n",
    "tdata = pd.concat([tdata, alone], axis=1, join='inner')"
   ]
  },
  {
   "cell_type": "markdown",
   "id": "4accd143",
   "metadata": {
    "papermill": {
     "duration": 0.009907,
     "end_time": "2022-07-06T10:15:05.649469",
     "exception": false,
     "start_time": "2022-07-06T10:15:05.639562",
     "status": "completed"
    },
    "tags": []
   },
   "source": [
    "**Removing the columns that won't be used**"
   ]
  },
  {
   "cell_type": "code",
   "execution_count": 13,
   "id": "4d2a488a",
   "metadata": {
    "execution": {
     "iopub.execute_input": "2022-07-06T10:15:05.672020Z",
     "iopub.status.busy": "2022-07-06T10:15:05.670781Z",
     "iopub.status.idle": "2022-07-06T10:15:05.692883Z",
     "shell.execute_reply": "2022-07-06T10:15:05.692081Z"
    },
    "papermill": {
     "duration": 0.03648,
     "end_time": "2022-07-06T10:15:05.696097",
     "exception": false,
     "start_time": "2022-07-06T10:15:05.659617",
     "status": "completed"
    },
    "tags": []
   },
   "outputs": [
    {
     "name": "stdout",
     "output_type": "stream",
     "text": [
      "<class 'pandas.core.frame.DataFrame'>\n",
      "RangeIndex: 891 entries, 0 to 890\n",
      "Data columns (total 12 columns):\n",
      " #   Column    Non-Null Count  Dtype  \n",
      "---  ------    --------------  -----  \n",
      " 0   Pclass    891 non-null    int64  \n",
      " 1   Age       891 non-null    float64\n",
      " 2   SibSp     891 non-null    int64  \n",
      " 3   Parch     891 non-null    int64  \n",
      " 4   Fare      891 non-null    float64\n",
      " 5   C         891 non-null    uint8  \n",
      " 6   Q         891 non-null    uint8  \n",
      " 7   S         891 non-null    uint8  \n",
      " 8   female    891 non-null    uint8  \n",
      " 9   male      891 non-null    uint8  \n",
      " 10  Alone     891 non-null    int64  \n",
      " 11  Survived  891 non-null    int64  \n",
      "dtypes: float64(2), int64(5), uint8(5)\n",
      "memory usage: 53.2 KB\n",
      "<class 'pandas.core.frame.DataFrame'>\n",
      "RangeIndex: 418 entries, 0 to 417\n",
      "Data columns (total 11 columns):\n",
      " #   Column  Non-Null Count  Dtype  \n",
      "---  ------  --------------  -----  \n",
      " 0   Pclass  418 non-null    int64  \n",
      " 1   Age     418 non-null    float64\n",
      " 2   SibSp   418 non-null    int64  \n",
      " 3   Parch   418 non-null    int64  \n",
      " 4   Fare    418 non-null    float64\n",
      " 5   C       418 non-null    uint8  \n",
      " 6   Q       418 non-null    uint8  \n",
      " 7   S       418 non-null    uint8  \n",
      " 8   female  418 non-null    uint8  \n",
      " 9   male    418 non-null    uint8  \n",
      " 10  Alone   418 non-null    int64  \n",
      "dtypes: float64(2), int64(4), uint8(5)\n",
      "memory usage: 21.8 KB\n"
     ]
    }
   ],
   "source": [
    "pass_id=tdata['PassengerId']\n",
    "mydata=mydata.drop(['PassengerId','Name', 'Sex', 'Embarked', 'Ticket', 'Cabin'], axis = 1)\n",
    "tdata=tdata.drop(['PassengerId','Name','Sex','Embarked', 'Ticket', 'Cabin'], axis = 1)\n",
    "mydata.info()\n",
    "tdata.info()"
   ]
  },
  {
   "cell_type": "markdown",
   "id": "76e279b6",
   "metadata": {
    "papermill": {
     "duration": 0.009937,
     "end_time": "2022-07-06T10:15:05.716992",
     "exception": false,
     "start_time": "2022-07-06T10:15:05.707055",
     "status": "completed"
    },
    "tags": []
   },
   "source": [
    "**Creating the arrays for training data & Feature scaling**"
   ]
  },
  {
   "cell_type": "code",
   "execution_count": 14,
   "id": "8b1b2317",
   "metadata": {
    "execution": {
     "iopub.execute_input": "2022-07-06T10:15:05.739546Z",
     "iopub.status.busy": "2022-07-06T10:15:05.738018Z",
     "iopub.status.idle": "2022-07-06T10:15:05.750372Z",
     "shell.execute_reply": "2022-07-06T10:15:05.748681Z"
    },
    "papermill": {
     "duration": 0.026616,
     "end_time": "2022-07-06T10:15:05.753509",
     "exception": false,
     "start_time": "2022-07-06T10:15:05.726893",
     "status": "completed"
    },
    "tags": []
   },
   "outputs": [],
   "source": [
    "#prepare the x and y training data\n",
    "X_train = mydata.iloc[:, :-1].values\n",
    "y_train = mydata.iloc[:, -1].values\n",
    "\n",
    "#feature scaling \n",
    "sc = StandardScaler()\n",
    "X_train[:, [1,2,3,4]] = sc.fit_transform(X_train[:, [1,2,3,4]])\n",
    "\n",
    "#prepare x_test\n",
    "X_test=tdata.iloc[:, :].values\n",
    "\n",
    "#feature scaling \n",
    "sc = StandardScaler()\n",
    "X_test[:, [1,2,3,4]] = sc.fit_transform(X_test[:, [1,2,3,4]])"
   ]
  },
  {
   "cell_type": "markdown",
   "id": "cec4cd8e",
   "metadata": {
    "papermill": {
     "duration": 0.011101,
     "end_time": "2022-07-06T10:15:05.774582",
     "exception": false,
     "start_time": "2022-07-06T10:15:05.763481",
     "status": "completed"
    },
    "tags": []
   },
   "source": [
    "**Training the random forest model**"
   ]
  },
  {
   "cell_type": "code",
   "execution_count": 15,
   "id": "24b0f7c4",
   "metadata": {
    "execution": {
     "iopub.execute_input": "2022-07-06T10:15:05.797947Z",
     "iopub.status.busy": "2022-07-06T10:15:05.797580Z",
     "iopub.status.idle": "2022-07-06T10:15:06.047867Z",
     "shell.execute_reply": "2022-07-06T10:15:06.046386Z"
    },
    "papermill": {
     "duration": 0.266245,
     "end_time": "2022-07-06T10:15:06.050996",
     "exception": false,
     "start_time": "2022-07-06T10:15:05.784751",
     "status": "completed"
    },
    "tags": []
   },
   "outputs": [
    {
     "data": {
      "text/plain": [
       "RandomForestClassifier(criterion='entropy', random_state=1)"
      ]
     },
     "execution_count": 15,
     "metadata": {},
     "output_type": "execute_result"
    }
   ],
   "source": [
    "classifier = RandomForestClassifier(n_estimators=100,criterion='entropy',random_state=1)\n",
    "classifier.fit(X_train, y_train)"
   ]
  },
  {
   "cell_type": "markdown",
   "id": "8bf3ec0c",
   "metadata": {
    "papermill": {
     "duration": 0.009917,
     "end_time": "2022-07-06T10:15:06.071940",
     "exception": false,
     "start_time": "2022-07-06T10:15:06.062023",
     "status": "completed"
    },
    "tags": []
   },
   "source": [
    "**Predicting the results**"
   ]
  },
  {
   "cell_type": "code",
   "execution_count": 16,
   "id": "26fe600c",
   "metadata": {
    "execution": {
     "iopub.execute_input": "2022-07-06T10:15:06.094705Z",
     "iopub.status.busy": "2022-07-06T10:15:06.094321Z",
     "iopub.status.idle": "2022-07-06T10:15:06.123377Z",
     "shell.execute_reply": "2022-07-06T10:15:06.122022Z"
    },
    "papermill": {
     "duration": 0.04474,
     "end_time": "2022-07-06T10:15:06.126663",
     "exception": false,
     "start_time": "2022-07-06T10:15:06.081923",
     "status": "completed"
    },
    "tags": []
   },
   "outputs": [
    {
     "name": "stdout",
     "output_type": "stream",
     "text": [
      "[0 0 0 0 0 0 0 0 1 0 0 0 1 0 1 1 0 1 0 1 1 1 1 0 1 0 1 1 0 0 0 0 1 0 0 0 0\n",
      " 0 0 0 0 0 0 1 1 0 0 0 1 1 1 0 1 1 1 0 0 0 0 1 0 0 0 0 1 1 0 0 0 1 0 0 0 0\n",
      " 1 0 0 1 0 0 1 0 0 0 0 0 0 1 0 1 0 0 1 0 0 0 1 0 1 0 1 0 0 0 1 0 0 0 1 0 0\n",
      " 0 1 0 1 0 0 1 0 1 1 0 1 1 0 1 0 1 0 0 0 0 0 0 0 0 0 0 1 0 0 1 0 0 0 0 0 0\n",
      " 0 0 1 0 0 1 0 0 1 1 0 1 0 1 1 0 0 0 0 0 1 0 0 0 0 0 0 1 1 1 1 1 0 1 1 0 1\n",
      " 0 1 0 0 0 0 0 1 0 1 0 1 1 0 0 0 1 0 1 0 0 0 0 1 0 0 0 0 1 0 0 0 0 1 0 1 0\n",
      " 1 0 1 0 0 0 0 0 0 1 0 0 1 0 1 0 1 1 1 1 0 0 0 0 1 0 1 0 1 0 0 0 0 0 0 0 1\n",
      " 0 0 0 1 1 1 0 0 0 0 0 0 0 1 1 0 1 0 0 0 0 0 1 0 0 1 0 0 0 0 0 1 0 0 0 0 0\n",
      " 1 0 0 0 0 1 0 0 0 1 1 1 0 0 0 1 0 0 1 1 0 0 0 0 0 0 0 0 1 0 1 0 0 0 1 1 0\n",
      " 0 0 0 0 0 0 0 0 0 0 1 0 1 0 1 0 1 1 0 0 0 1 0 1 0 0 0 0 1 1 0 1 0 0 0 1 1\n",
      " 0 1 0 0 1 1 0 0 0 0 0 0 1 0 0 1 0 0 0 0 0 1 1 0 0 1 0 1 0 0 1 0 1 0 0 0 0\n",
      " 0 0 1 0 1 1 0 1 0 0 1]\n"
     ]
    }
   ],
   "source": [
    "y_pred = classifier.predict(X_test)\n",
    "print(np.concatenate((y_pred.reshape(len(y_pred),1))))"
   ]
  },
  {
   "cell_type": "code",
   "execution_count": 17,
   "id": "c899a962",
   "metadata": {
    "execution": {
     "iopub.execute_input": "2022-07-06T10:15:06.149361Z",
     "iopub.status.busy": "2022-07-06T10:15:06.148926Z",
     "iopub.status.idle": "2022-07-06T10:15:06.160512Z",
     "shell.execute_reply": "2022-07-06T10:15:06.159452Z"
    },
    "papermill": {
     "duration": 0.027072,
     "end_time": "2022-07-06T10:15:06.164049",
     "exception": false,
     "start_time": "2022-07-06T10:15:06.136977",
     "status": "completed"
    },
    "tags": []
   },
   "outputs": [],
   "source": [
    "final_surv = pd.DataFrame(y_pred, columns = ['Survived'])\n",
    "final = pd.concat([pass_id, final_surv], axis=1, join='inner')\n",
    "final.to_csv(r'./Submission.csv', index=False)"
   ]
  }
 ],
 "metadata": {
  "kernelspec": {
   "display_name": "Python 3",
   "language": "python",
   "name": "python3"
  },
  "language_info": {
   "codemirror_mode": {
    "name": "ipython",
    "version": 3
   },
   "file_extension": ".py",
   "mimetype": "text/x-python",
   "name": "python",
   "nbconvert_exporter": "python",
   "pygments_lexer": "ipython3",
   "version": "3.7.12"
  },
  "papermill": {
   "default_parameters": {},
   "duration": 13.603036,
   "end_time": "2022-07-06T10:15:06.898305",
   "environment_variables": {},
   "exception": null,
   "input_path": "__notebook__.ipynb",
   "output_path": "__notebook__.ipynb",
   "parameters": {},
   "start_time": "2022-07-06T10:14:53.295269",
   "version": "2.3.4"
  }
 },
 "nbformat": 4,
 "nbformat_minor": 5
}
